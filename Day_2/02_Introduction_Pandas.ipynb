{
 "cells": [
  {
   "cell_type": "markdown",
   "id": "8cadd96a",
   "metadata": {},
   "source": [
    "# Chapter 4: Python Pandas Tutorial"
   ]
  },
  {
   "cell_type": "markdown",
   "id": "26f490c0",
   "metadata": {},
   "source": [
    "The `pandas` package is the most important tool at the disposal of Data Scientists and Analysts working in Python today. The powerful machine learning and glamorous visualization tools may get all the attention, but pandas is the backbone of most data projects.\n",
    "\n",
    "> [pandas] is derived from the term \"**pan**el **da**ta\", an econometrics term for data sets that include observations over multiple time periods for the same individuals. "
   ]
  },
  {
   "cell_type": "markdown",
   "id": "b2248293",
   "metadata": {},
   "source": [
    "## What `pandas` for?\n",
    "\n",
    "`pandas` has so many uses that it might make sense to list the things it can't do instead of what it can do.'\n",
    "'\n",
    "This tool is essentially your data's home. Through `pandas`, you get acquainted with your data by cleaning, transforming, and analyzing it.\n",
    "\n",
    "For example, say you want to explore a dataset stored in a CSV on your computer. `pandas` will extract the data from that CSV into a `DataFrame` — a table, basically — then let you do things like:\n",
    "\n",
    "- Calculate statistics and answer questions about the data, like\n",
    "    - What's the average, median, max, or min of each column?\n",
    "    - Does column A correlate with column B?\n",
    "    - What does the distribution of data in column C look like?\n",
    "\n",
    "- Clean the data by doing things like removing missing values and filtering rows or columns by some criteria\n",
    "- Visualize the data with help from Matplotlib. Plot bars, lines, histograms, bubbles, and more.\n",
    "- Store the cleaned, transformed data back into a CSV, other file or database\n",
    "\n",
    "Before you jump into the modeling or the complex visualizations you need to have a good understanding of the nature of your dataset and pandas is the best avenue through which to do that."
   ]
  },
  {
   "cell_type": "markdown",
   "id": "b445ce3a",
   "metadata": {},
   "source": [
    "### First Steps: Install and import\n",
    "\n",
    "`pandas` is an easy package to install. To install in this notebook, we just run:"
   ]
  },
  {
   "cell_type": "code",
   "execution_count": null,
   "id": "48fc0934",
   "metadata": {},
   "outputs": [],
   "source": [
    "!pip install pandas"
   ]
  },
  {
   "cell_type": "markdown",
   "id": "9f7f9192",
   "metadata": {},
   "source": [
    "The `!` at the beginning runs cells as if they were in a terminal.\n",
    "\n",
    "To import `pandas` we usually import it with a shorter name since it's used so much:"
   ]
  },
  {
   "cell_type": "code",
   "execution_count": null,
   "id": "e006f978",
   "metadata": {},
   "outputs": [],
   "source": [
    "import pandas as pd"
   ]
  },
  {
   "cell_type": "markdown",
   "id": "54bab6da",
   "metadata": {},
   "source": [
    "### Core components of pandas: Series and DataFrames\n",
    "\n",
    "The primary two components of `pandas` are the `Series` and `DataFrame`.\n",
    "\n",
    "A `Series` is essentially a column, and a `DataFrame` is a multi-dimensional table made up of a collection of Series.\n",
    "\n",
    "<img src=\"images/img1.png\" />"
   ]
  },
  {
   "cell_type": "markdown",
   "id": "07b4231c",
   "metadata": {},
   "source": [
    "`DataFrames` and `Series` are quite similar in that many operations that you can do with one you can do with the other, such as filling in null values and calculating the mean.\n",
    "\n",
    "You'll see how these components work when we start working with data below.\n",
    "\n",
    "### Creating `DataFrames` from scratch\n",
    "\n",
    "Creating `DataFrames` right in Python is good to know and quite useful when testing new methods and functions you find in the pandas docs.\n",
    "\n",
    "There are many ways to create a DataFrame from scratch, but a great option is to just use a simple dict.\n",
    "\n",
    "Let's say we have a fruit stand that sells apples and oranges. We want to have a column for each fruit and a row for each customer purchase. To organize this as a dictionary for pandas we could do something like:"
   ]
  },
  {
   "cell_type": "code",
   "execution_count": null,
   "id": "f81a93ae",
   "metadata": {},
   "outputs": [],
   "source": [
    "data = {\n",
    "    'durians': [4, 55, 32, 13], \n",
    "    'apples': [3, 56, 3, 1]\n",
    "}\n",
    "\n",
    "fruit = pd.DataFrame(data)\n",
    "fruit"
   ]
  },
  {
   "cell_type": "markdown",
   "id": "7cfb2184",
   "metadata": {},
   "source": [
    "Each item (key, value) in data corresponds to a column in the resulting `DataFrame`.\n",
    "\n",
    "The Index of this DataFrame was given to us on creation as the numbers 0-3, but we could also create our own when we initialize the `DataFrame`.\n",
    "\n",
    "Let's put customer names as our index:"
   ]
  },
  {
   "cell_type": "code",
   "execution_count": null,
   "id": "d97fda60",
   "metadata": {},
   "outputs": [],
   "source": [
    "fruit = pd.DataFrame(data, index=['Ali', 'Abu', 'Lim', 'Muthu'])\n",
    "\n",
    "fruit"
   ]
  },
  {
   "cell_type": "markdown",
   "id": "f5d37bbc",
   "metadata": {},
   "source": [
    "### Locating the customer\n",
    "\n",
    "We can locate a customer's order by using their name with loc."
   ]
  },
  {
   "cell_type": "code",
   "execution_count": null,
   "id": "e105179e",
   "metadata": {},
   "outputs": [],
   "source": [
    "fruit.loc['Ali']"
   ]
  },
  {
   "cell_type": "markdown",
   "id": "9303d199",
   "metadata": {},
   "source": [
    "## Essential DataFrame and Series Operations\n",
    "\n",
    "Now that we've learned how to create DataFrames and locate specific rows, let's explore more fundamental operations that form the backbone of data analysis with pandas. These operations will help you understand, manipulate, and analyze your data effectively."
   ]
  },
  {
   "cell_type": "markdown",
   "id": "1566b419",
   "metadata": {},
   "source": [
    "### 1. Viewing and Inspecting DataFrames\n",
    "\n",
    "Before analyzing data, it's crucial to understand what you're working with. Here are essential methods to inspect your DataFrame:"
   ]
  },
  {
   "cell_type": "code",
   "execution_count": null,
   "id": "4d919824",
   "metadata": {},
   "outputs": [],
   "source": [
    "# Basic information about the DataFrame\n",
    "print(\"DataFrame Info:\")\n",
    "print(f\"Shape: {fruit.shape}\")  # (rows, columns)\n",
    "print(f\"Size: {fruit.size}\")    # total number of elements\n",
    "print(f\"Columns: {list(fruit.columns)}\")\n",
    "print(f\"Index: {list(fruit.index)}\")"
   ]
  },
  {
   "cell_type": "code",
   "execution_count": null,
   "id": "8d656143",
   "metadata": {},
   "outputs": [],
   "source": [
    "print(\"\\nFirst 2 rows:\")\n",
    "print(fruit.head(2))"
   ]
  },
  {
   "cell_type": "code",
   "execution_count": null,
   "id": "322d4638",
   "metadata": {},
   "outputs": [],
   "source": [
    "print(\"\\nLast 2 rows:\")\n",
    "print(fruit.tail(2))"
   ]
  },
  {
   "cell_type": "code",
   "execution_count": null,
   "id": "c8f81e10",
   "metadata": {},
   "outputs": [],
   "source": [
    "# Get statistical summary of numerical columns\n",
    "print(\"Statistical Summary:\")\n",
    "print(fruit.describe())"
   ]
  },
  {
   "cell_type": "code",
   "execution_count": null,
   "id": "8d00c7c1",
   "metadata": {},
   "outputs": [],
   "source": [
    "# Get data types of each column\n",
    "print(\"\\nData Types:\")\n",
    "print(fruit.dtypes)"
   ]
  },
  {
   "cell_type": "code",
   "execution_count": null,
   "id": "5dd8d1bf",
   "metadata": {},
   "outputs": [],
   "source": [
    "# Check for missing values\n",
    "print(\"\\nMissing Values:\")\n",
    "print(fruit.isnull().sum())"
   ]
  },
  {
   "cell_type": "markdown",
   "id": "2c890d73",
   "metadata": {},
   "source": [
    "### 2. Selecting Data\n",
    "\n",
    "There are multiple ways to select data from a DataFrame. Understanding these methods is fundamental to data manipulation:"
   ]
  },
  {
   "cell_type": "code",
   "execution_count": null,
   "id": "9cf54b3f",
   "metadata": {},
   "outputs": [],
   "source": [
    "# Selecting a single column (returns a Series)\n",
    "print(\"Durians column:\")\n",
    "print(fruit['durians'])\n",
    "print(f\"Type: {type(fruit['durians'])}\")"
   ]
  },
  {
   "cell_type": "code",
   "execution_count": null,
   "id": "c7e4142c",
   "metadata": {},
   "outputs": [],
   "source": [
    "# Alternative way to select a column\n",
    "print(\"Apples column (using dot notation):\")\n",
    "print(fruit.apples)"
   ]
  },
  {
   "cell_type": "code",
   "execution_count": null,
   "id": "802f571a",
   "metadata": {},
   "outputs": [],
   "source": [
    "# Selecting multiple columns (returns a DataFrame)\n",
    "print(\"Multiple columns:\")\n",
    "print(fruit[['durians', 'apples']])\n",
    "print(f\"Type: {type(fruit[['durians', 'apples']])}\")"
   ]
  },
  {
   "cell_type": "markdown",
   "id": "28cedf55",
   "metadata": {},
   "source": [
    "Using `.loc` for label-based selection:"
   ]
  },
  {
   "cell_type": "code",
   "execution_count": null,
   "id": "8ae44913",
   "metadata": {},
   "outputs": [],
   "source": [
    "print(\"Single row:\")\n",
    "print(fruit.loc['Ali'])"
   ]
  },
  {
   "cell_type": "code",
   "execution_count": null,
   "id": "e70ceffa",
   "metadata": {},
   "outputs": [],
   "source": [
    "print(\"\\nMultiple rows:\")\n",
    "print(fruit.loc[['Ali', 'Lim']])"
   ]
  },
  {
   "cell_type": "code",
   "execution_count": null,
   "id": "babad5d7",
   "metadata": {},
   "outputs": [],
   "source": [
    "print(\"\\nRow and column selection:\")\n",
    "print(fruit.loc['Abu', 'durians'])  # Single value"
   ]
  },
  {
   "cell_type": "code",
   "execution_count": null,
   "id": "d798c904",
   "metadata": {},
   "outputs": [],
   "source": [
    "print(\"Using .iloc for position-based selection:\")\n",
    "print(\"First row (index 0):\")\n",
    "print(fruit.iloc[0])"
   ]
  },
  {
   "cell_type": "code",
   "execution_count": null,
   "id": "d52ff09f",
   "metadata": {},
   "outputs": [],
   "source": [
    "print(\"\\nFirst two rows:\")\n",
    "print(fruit.iloc[0:2])\n"
   ]
  },
  {
   "cell_type": "code",
   "execution_count": null,
   "id": "4dbd6e54",
   "metadata": {},
   "outputs": [],
   "source": [
    "print(\"\\nSpecific value (row 1, column 0):\")\n",
    "print(fruit.iloc[1, 0])"
   ]
  },
  {
   "cell_type": "markdown",
   "id": "473b7985",
   "metadata": {},
   "source": [
    "### 3. Filtering and Conditional Selection\n",
    "\n",
    "One of the most powerful features of pandas is the ability to filter data based on conditions:"
   ]
  },
  {
   "cell_type": "code",
   "execution_count": null,
   "id": "c3313b72",
   "metadata": {},
   "outputs": [],
   "source": [
    "# Simple filtering: customers who bought more than 10 durians\n",
    "print(\"Customers who bought more than 10 durians:\")\n",
    "high_durian_buyers = fruit[fruit['durians'] > 10]\n",
    "print(high_durian_buyers)"
   ]
  },
  {
   "cell_type": "code",
   "execution_count": null,
   "id": "be8bde3a",
   "metadata": {},
   "outputs": [],
   "source": [
    "# Multiple conditions using & (and) and | (or)\n",
    "print(\"Customers who bought more than 10 durians AND more than 20 apples:\")\n",
    "print(fruit[(fruit['durians'] > 10) & (fruit['apples'] > 20)])"
   ]
  },
  {
   "cell_type": "code",
   "execution_count": null,
   "id": "fdac500a",
   "metadata": {},
   "outputs": [],
   "source": [
    "print(\"\\nCustomers who bought more than 50 durians OR more than 50 apples:\")\n",
    "print(fruit[(fruit['durians'] > 50) | (fruit['apples'] > 50)])"
   ]
  },
  {
   "cell_type": "code",
   "execution_count": null,
   "id": "5e108506",
   "metadata": {},
   "outputs": [],
   "source": [
    "# Using isin() for multiple value matching\n",
    "print(\"Customers named Ali or Lim:\")\n",
    "selected_customers = fruit[fruit.index.isin(['Ali', 'Lim'])]\n",
    "print(selected_customers)"
   ]
  },
  {
   "cell_type": "markdown",
   "id": "7d5c3e7d",
   "metadata": {},
   "source": [
    "### 4. Basic Calculations and Statistics\n",
    "\n",
    "Pandas makes it easy to perform calculations on your data:"
   ]
  },
  {
   "cell_type": "code",
   "execution_count": null,
   "id": "fd8cf46b",
   "metadata": {},
   "outputs": [],
   "source": [
    "# Basic statistics for individual columns\n",
    "print(\"Durians column statistics:\")\n",
    "print(f\"Sum: {fruit['durians'].sum()}\")\n",
    "print(f\"Mean: {fruit['durians'].mean():.2f}\")\n",
    "print(f\"Median: {fruit['durians'].median()}\")\n",
    "print(f\"Standard deviation: {fruit['durians'].std():.2f}\")\n",
    "print(f\"Min: {fruit['durians'].min()}\")\n",
    "print(f\"Max: {fruit['durians'].max()}\")"
   ]
  },
  {
   "cell_type": "code",
   "execution_count": null,
   "id": "240bf465",
   "metadata": {},
   "outputs": [],
   "source": [
    "# Statistics for all columns at once\n",
    "print(\"All columns statistics:\")\n",
    "print(fruit.sum())\n",
    "print(\"\\nMean values:\")\n",
    "print(fruit.mean())"
   ]
  },
  {
   "cell_type": "code",
   "execution_count": null,
   "id": "d7b480b7",
   "metadata": {},
   "outputs": [],
   "source": [
    "# Adding new calculated columns\n",
    "fruit['total_fruits'] = fruit['durians'] + fruit['apples']\n",
    "fruit['durian_percentage'] = (fruit['durians'] / fruit['total_fruits'] * 100).round(2)\n",
    "\n",
    "print(\"Updated DataFrame with calculated columns:\")\n",
    "print(fruit)"
   ]
  },
  {
   "cell_type": "markdown",
   "id": "6dcba6a1",
   "metadata": {},
   "source": [
    "### 5. Sorting Data\n",
    "\n",
    "Sorting helps you organize your data for better analysis and presentation:"
   ]
  },
  {
   "cell_type": "code",
   "execution_count": null,
   "id": "97b817b4",
   "metadata": {},
   "outputs": [],
   "source": [
    "# Sort by a single column (ascending)\n",
    "print(\"Sorted by durians (ascending):\")\n",
    "print(fruit.sort_values('durians'))"
   ]
  },
  {
   "cell_type": "code",
   "execution_count": null,
   "id": "2e43e307",
   "metadata": {},
   "outputs": [],
   "source": [
    "# Sort by a single column (descending)\n",
    "print(\"Sorted by total_fruits (descending):\")\n",
    "print(fruit.sort_values('total_fruits', ascending=False))"
   ]
  },
  {
   "cell_type": "code",
   "execution_count": null,
   "id": "c07e2ca2",
   "metadata": {},
   "outputs": [],
   "source": [
    "# Sort by multiple columns\n",
    "print(\"Sorted by durians (desc), then apples (asc):\")\n",
    "print(fruit.sort_values(['durians', 'apples'], ascending=[False, True]))"
   ]
  },
  {
   "cell_type": "code",
   "execution_count": null,
   "id": "0bfc6a73",
   "metadata": {},
   "outputs": [],
   "source": [
    "# Sort by index\n",
    "print(\"Sorted by customer names (index):\")\n",
    "print(fruit.sort_index())"
   ]
  },
  {
   "cell_type": "markdown",
   "id": "51fd36a3",
   "metadata": {},
   "source": [
    "### 6. Adding, Modifying, and Removing Data\n",
    "\n",
    "Learn how to modify your DataFrame structure and content:"
   ]
  },
  {
   "cell_type": "code",
   "execution_count": null,
   "id": "77c4d9db",
   "metadata": {},
   "outputs": [],
   "source": [
    "# Adding a new column\n",
    "fruit['mangoes'] = [2, 8, 15, 7]  # Add a new fruit column\n",
    "print(\"After adding mangoes column:\")\n",
    "print(fruit)"
   ]
  },
  {
   "cell_type": "code",
   "execution_count": null,
   "id": "4d8e2370",
   "metadata": {},
   "outputs": [],
   "source": [
    "new_customer = pd.DataFrame({\n",
    "    'durians': [20], \n",
    "    'apples': [25], \n",
    "    'total_fruits': [45], \n",
    "    'durian_percentage': [44.44],\n",
    "    'mangoes': [12]\n",
    "}, index=['Siti'])\n",
    "\n",
    "fruit = pd.concat([fruit, new_customer])\n",
    "print(\"After adding new customer 'Siti':\")\n",
    "print(fruit)"
   ]
  },
  {
   "cell_type": "code",
   "execution_count": null,
   "id": "be3d1c08",
   "metadata": {},
   "outputs": [],
   "source": [
    "# Modifying values\n",
    "fruit.loc['Ali', 'mangoes'] = 10  # Change Ali's mango count\n",
    "print(\"After modifying Ali's mango count:\")\n",
    "print(fruit.loc['Ali'])"
   ]
  },
  {
   "cell_type": "code",
   "execution_count": null,
   "id": "15808d1f",
   "metadata": {},
   "outputs": [],
   "source": [
    "# Removing columns\n",
    "fruit_no_percentage = fruit.drop('durian_percentage', axis=1)\n",
    "print(\"After removing durian_percentage column:\")\n",
    "print(fruit_no_percentage)"
   ]
  },
  {
   "cell_type": "code",
   "execution_count": null,
   "id": "db910051",
   "metadata": {},
   "outputs": [],
   "source": [
    "print(\"\\nRemoving multiple columns:\")\n",
    "fruit_basic = fruit.drop(['total_fruits', 'durian_percentage'], axis=1)\n",
    "print(fruit_basic)"
   ]
  },
  {
   "cell_type": "markdown",
   "id": "2d9480ff",
   "metadata": {},
   "source": [
    "### 7. Working with Missing Data\n",
    "\n",
    "Real-world data often has missing values. Here's how to handle them:"
   ]
  },
  {
   "cell_type": "code",
   "execution_count": null,
   "id": "e8072bbf",
   "metadata": {},
   "outputs": [],
   "source": [
    "# Create a DataFrame with missing values for demonstration\n",
    "import numpy as np\n",
    "\n",
    "fruit_with_missing = fruit.copy()\n",
    "fruit_with_missing.loc['Abu', 'mangoes'] = np.nan  # Add missing value\n",
    "fruit_with_missing.loc['Lim', 'apples'] = np.nan   # Add another missing value\n",
    "\n",
    "print(\"DataFrame with missing values:\")\n",
    "print(fruit_with_missing)"
   ]
  },
  {
   "cell_type": "code",
   "execution_count": null,
   "id": "1d0ab3b3",
   "metadata": {},
   "outputs": [],
   "source": [
    "# Check for missing values\n",
    "print(\"Missing values per column:\")\n",
    "print(fruit_with_missing.isnull().sum())\n",
    "\n",
    "print(\"\\nRows with any missing values:\")\n",
    "print(fruit_with_missing[fruit_with_missing.isnull().any(axis=1)])"
   ]
  },
  {
   "cell_type": "code",
   "execution_count": null,
   "id": "3a1903d3",
   "metadata": {},
   "outputs": [],
   "source": [
    "# Fill missing values\n",
    "print(\"Fill missing values with 0:\")\n",
    "filled_with_zero = fruit_with_missing.fillna(0)\n",
    "print(filled_with_zero)"
   ]
  },
  {
   "cell_type": "code",
   "execution_count": null,
   "id": "9eb3a806",
   "metadata": {},
   "outputs": [],
   "source": [
    "print(\"\\nFill missing values with column mean:\")\n",
    "filled_with_mean = fruit_with_missing.fillna(fruit_with_missing.mean())\n",
    "print(filled_with_mean)"
   ]
  },
  {
   "cell_type": "code",
   "execution_count": null,
   "id": "b42bcda4",
   "metadata": {},
   "outputs": [],
   "source": [
    "# Drop rows or columns with missing values\n",
    "print(\"Drop rows with any missing values:\")\n",
    "dropped_rows = fruit_with_missing.dropna()\n",
    "print(dropped_rows)"
   ]
  },
  {
   "cell_type": "code",
   "execution_count": null,
   "id": "c1d4b69b",
   "metadata": {},
   "outputs": [],
   "source": [
    "print(\"\\nDrop columns with any missing values:\")\n",
    "dropped_cols = fruit_with_missing.dropna(axis=1)\n",
    "print(dropped_cols)"
   ]
  },
  {
   "cell_type": "markdown",
   "id": "e5131f21",
   "metadata": {},
   "source": [
    "### 8. Basic String Operations\n",
    "\n",
    "When working with text data, pandas provides powerful string manipulation tools:"
   ]
  },
  {
   "cell_type": "code",
   "execution_count": null,
   "id": "89bd5aa7",
   "metadata": {},
   "outputs": [],
   "source": [
    "# Create a DataFrame with string data for demonstration\n",
    "customers = pd.DataFrame({\n",
    "    'name': ['Ali bin Ahmad', 'Abu Bakar', 'Lim Wei Ming', 'Muthu Krishnan', 'Siti Aminah'],\n",
    "    'email': ['ali@email.com', 'abu@Email.COM', 'lim@email.com', 'muthu@EMAIL.com', 'siti@email.com'],\n",
    "    'phone': ['012-345-6789', '013 456 7890', '014.567.8901', '015/678/9012', '016-789-0123']\n",
    "})\n",
    "\n",
    "print(\"Customer data:\")\n",
    "print(customers)"
   ]
  },
  {
   "cell_type": "code",
   "execution_count": null,
   "id": "410934be",
   "metadata": {},
   "outputs": [],
   "source": [
    "# String operations using .str accessor\n",
    "print(\"Convert names to uppercase:\")\n",
    "print(customers['name'].str.upper())"
   ]
  },
  {
   "cell_type": "code",
   "execution_count": null,
   "id": "947e4283",
   "metadata": {},
   "outputs": [],
   "source": [
    "print(\"\\nConvert emails to lowercase:\")\n",
    "print(customers['email'].str.lower())"
   ]
  },
  {
   "cell_type": "code",
   "execution_count": null,
   "id": "7dc4b2c9",
   "metadata": {},
   "outputs": [],
   "source": [
    "print(\"\\nGet first name (split by space and take first part):\")\n",
    "customers['first_name'] = customers['name'].str.split(' ').str[0]\n",
    "print(customers[['name', 'first_name']])"
   ]
  },
  {
   "cell_type": "code",
   "execution_count": null,
   "id": "7466b718",
   "metadata": {},
   "outputs": [],
   "source": [
    "# String contains and filtering\n",
    "print(\"Customers with 'Ahmad' in their name:\")\n",
    "print(customers[customers['name'].str.contains('Ahmad')])\n"
   ]
  },
  {
   "cell_type": "code",
   "execution_count": null,
   "id": "d94b6b44",
   "metadata": {},
   "outputs": [],
   "source": [
    "print(\"\\nEmails ending with '.com':\")\n",
    "print(customers[customers['email'].str.endswith('.com')])"
   ]
  },
  {
   "cell_type": "code",
   "execution_count": null,
   "id": "fe59d884",
   "metadata": {},
   "outputs": [],
   "source": [
    "# String length and cleaning\n",
    "print(\"Length of each name:\")\n",
    "customers['name_length'] = customers['name'].str.len()\n",
    "print(customers[['name', 'name_length']])"
   ]
  },
  {
   "cell_type": "code",
   "execution_count": null,
   "id": "cacca5f5",
   "metadata": {},
   "outputs": [],
   "source": [
    "print(\"Clean phone numbers (remove non-digits):\")\n",
    "customers['phone_clean'] = customers['phone'].str.replace(r'[^0-9]', '', regex=True)\n",
    "print(customers[['phone', 'phone_clean']])"
   ]
  },
  {
   "cell_type": "markdown",
   "id": "a915ed8a",
   "metadata": {},
   "source": [
    "### 9. Basic Grouping and Aggregation\n",
    "\n",
    "Grouping data allows you to perform calculations on subsets of your data:"
   ]
  },
  {
   "cell_type": "code",
   "execution_count": null,
   "id": "76304f5e",
   "metadata": {},
   "outputs": [],
   "source": [
    "# Create a more complex dataset for grouping\n",
    "sales_data = pd.DataFrame({\n",
    "    'customer': ['Ali', 'Abu', 'Lim', 'Muthu', 'Ali', 'Abu', 'Lim', 'Muthu'],\n",
    "    'fruit': ['durian', 'durian', 'apple', 'apple', 'apple', 'mango', 'durian', 'mango'],\n",
    "    'quantity': [5, 3, 10, 7, 8, 6, 4, 9],\n",
    "    'price_per_unit': [15, 15, 3, 3, 3, 8, 15, 8],\n",
    "    'region': ['North', 'South', 'North', 'South', 'North', 'South', 'North', 'South']\n",
    "})\n",
    "\n",
    "sales_data['total_sales'] = sales_data['quantity'] * sales_data['price_per_unit']\n",
    "\n",
    "print(\"Sales data:\")\n",
    "print(sales_data)"
   ]
  },
  {
   "cell_type": "code",
   "execution_count": null,
   "id": "bfeccb5b",
   "metadata": {},
   "outputs": [],
   "source": [
    "# Group by single column\n",
    "print(\"Total sales by customer:\")\n",
    "customer_sales = sales_data.groupby('customer')['total_sales'].sum()\n",
    "print(customer_sales)"
   ]
  },
  {
   "cell_type": "code",
   "execution_count": null,
   "id": "76277a47",
   "metadata": {},
   "outputs": [],
   "source": [
    "print(\"\\nTotal quantity sold by fruit type:\")\n",
    "fruit_quantity = sales_data.groupby('fruit')['quantity'].sum()\n",
    "print(fruit_quantity)"
   ]
  },
  {
   "cell_type": "code",
   "execution_count": null,
   "id": "f004b01f",
   "metadata": {},
   "outputs": [],
   "source": [
    "# Group by multiple columns\n",
    "print(\"Sales by customer and fruit:\")\n",
    "customer_fruit_sales = sales_data.groupby(['customer', 'fruit'])['total_sales'].sum()\n",
    "print(customer_fruit_sales)"
   ]
  },
  {
   "cell_type": "code",
   "execution_count": null,
   "id": "0703507d",
   "metadata": {},
   "outputs": [],
   "source": [
    "# Multiple aggregations\n",
    "print(\"Statistics by fruit type:\")\n",
    "fruit_stats = sales_data.groupby('fruit').agg({\n",
    "    'quantity': ['sum', 'mean', 'count'],\n",
    "    'total_sales': ['sum', 'mean', 'max']\n",
    "})\n",
    "print(fruit_stats)"
   ]
  },
  {
   "cell_type": "code",
   "execution_count": null,
   "id": "3d62b1e9",
   "metadata": {},
   "outputs": [],
   "source": [
    "# Group by with filtering\n",
    "print(\"Customers with total sales > 50:\")\n",
    "high_value_customers = sales_data.groupby('customer')['total_sales'].sum()\n",
    "print(high_value_customers[high_value_customers > 50])"
   ]
  },
  {
   "cell_type": "markdown",
   "id": "45f56f04",
   "metadata": {},
   "source": [
    "### Summary: Key Pandas Concepts Covered\n",
    "\n",
    "Congratulations! You've now learned the fundamental building blocks of pandas. Here's a quick recap of what we covered:\n",
    "\n",
    "**1. DataFrame Inspection**: `.shape`, `.head()`, `.tail()`, `.describe()`, `.dtypes`, `.isnull()`\n",
    "\n",
    "**2. Data Selection**: \n",
    "   - Column selection: `df['column']`, `df[['col1', 'col2']]`\n",
    "   - Row selection: `.loc[]` (label-based), `.iloc[]` (position-based)\n",
    "\n",
    "**3. Filtering**: Boolean indexing with conditions (`>`, `<`, `&`, `|`, `.isin()`)\n",
    "\n",
    "**4. Calculations**: `.sum()`, `.mean()`, `.median()`, `.std()`, `.min()`, `.max()`\n",
    "\n",
    "**5. Sorting**: `.sort_values()`, `.sort_index()`\n",
    "\n",
    "**6. Data Modification**: Adding columns, adding rows, `.drop()`, modifying values\n",
    "\n",
    "**7. Missing Data**: `.fillna()`, `.dropna()`, handling NaN values\n",
    "\n",
    "**8. String Operations**: `.str` accessor for text manipulation\n",
    "\n",
    "**9. Grouping**: `.groupby()` for aggregations and analysis\n",
    "\n",
    "These concepts form the foundation for more advanced pandas operations. Practice with different datasets to become comfortable with these tools!\n",
    "\n",
    "---"
   ]
  },
  {
   "cell_type": "markdown",
   "id": "5541c017",
   "metadata": {},
   "source": [
    "## Mini Project: Birthday Explorer\n",
    "\n",
    "Explore any date from 1920 to 2022 using Malaysia’s daily birth counts.\n",
    "\n",
    "- Goal: Build a small, data-driven “explorer” to answer questions about birthdays using the official dataset.\n",
    "- Data source: births.csv (daily births), 1920–2022  \n",
    "  URL: https://storage.data.gov.my/demography/births.csv\n",
    "\n",
    "What you’ll build\n",
    "- Date lookup: Enter a date (YYYY-MM-DD) and show the number of births on that day.\n",
    "- Birthday profile: For a given month-day (e.g., 14-Feb), summarize births across years (trend, averages, min/max).\n",
    "- Seasonality views: Explore patterns by month and by day-of-week; visualize spikes (e.g., festive periods).\n",
    "- Fun facts:\n",
    "  - Most/least common birthdays.\n",
    "  - Your birthday’s percentile/rarity across the year.\n",
    "  - Leap day handling and nearby-day comparison for Feb 29 birthdays.\n",
    "- Data quality checks: Identify missing dates, early-year gaps, and outliers.\n"
   ]
  },
  {
   "cell_type": "markdown",
   "id": "5218fd44",
   "metadata": {},
   "source": [
    "### Reading CSV File\n",
    "\n",
    "We will need to first load the CSV file. To do this, we use `read_csv()` function. This function accepts an URL or a file."
   ]
  },
  {
   "cell_type": "code",
   "execution_count": null,
   "id": "07d3c565",
   "metadata": {},
   "outputs": [],
   "source": [
    "url = \"https://storage.data.gov.my/demography/births.csv\"\n",
    "births_df = pd.read_csv(url)"
   ]
  },
  {
   "cell_type": "markdown",
   "id": "72a8891f",
   "metadata": {},
   "source": [
    "Alternatively, to load using local file, we can:"
   ]
  },
  {
   "cell_type": "code",
   "execution_count": null,
   "id": "51122a7f",
   "metadata": {},
   "outputs": [],
   "source": [
    "births_local_df = pd.read_csv(\"births.csv\")"
   ]
  },
  {
   "cell_type": "markdown",
   "id": "5b212b04",
   "metadata": {},
   "source": [
    "We can look for the shape of the dataframe as below:"
   ]
  },
  {
   "cell_type": "code",
   "execution_count": null,
   "id": "44cd71c9",
   "metadata": {},
   "outputs": [],
   "source": [
    "births_df.shape"
   ]
  },
  {
   "cell_type": "markdown",
   "id": "234350d1",
   "metadata": {},
   "source": [
    "Now, let's see what column is in the data."
   ]
  },
  {
   "cell_type": "code",
   "execution_count": null,
   "id": "48225299",
   "metadata": {},
   "outputs": [],
   "source": [
    "births_df.columns.tolist()"
   ]
  },
  {
   "cell_type": "markdown",
   "id": "bb380edc",
   "metadata": {},
   "source": [
    "The first few row of the dataframe."
   ]
  },
  {
   "cell_type": "code",
   "execution_count": null,
   "id": "f091336b",
   "metadata": {},
   "outputs": [],
   "source": [
    "births_df.head()"
   ]
  },
  {
   "cell_type": "markdown",
   "id": "527f3893",
   "metadata": {},
   "source": [
    "### Clean the data\n",
    "\n",
    "Remove the `state` column since it's all 'Malaysia'"
   ]
  },
  {
   "cell_type": "code",
   "execution_count": null,
   "id": "5754a8b5",
   "metadata": {},
   "outputs": [],
   "source": [
    "births_df = births_df.drop('state', axis=1)"
   ]
  },
  {
   "cell_type": "markdown",
   "id": "1fac539c",
   "metadata": {},
   "source": [
    "Convert date column to proper `datetime` format"
   ]
  },
  {
   "cell_type": "code",
   "execution_count": null,
   "id": "b3bec602",
   "metadata": {},
   "outputs": [],
   "source": [
    "births_df['date'] = pd.to_datetime(births_df['date'])"
   ]
  },
  {
   "cell_type": "markdown",
   "id": "cf4d701e",
   "metadata": {},
   "source": [
    "Set date as index for faster lookups"
   ]
  },
  {
   "cell_type": "code",
   "execution_count": null,
   "id": "392bdce3",
   "metadata": {},
   "outputs": [],
   "source": [
    "births_df = births_df.set_index('date')"
   ]
  },
  {
   "cell_type": "markdown",
   "id": "82720ac9",
   "metadata": {},
   "source": [
    "Now, let's see the first few row of the dataframe after the operations above."
   ]
  },
  {
   "cell_type": "code",
   "execution_count": null,
   "id": "c9af2111",
   "metadata": {},
   "outputs": [],
   "source": [
    "births_df.head()"
   ]
  },
  {
   "cell_type": "markdown",
   "id": "5dd0bb70",
   "metadata": {},
   "source": [
    "### Finding how common is your birthdate"
   ]
  },
  {
   "cell_type": "code",
   "execution_count": null,
   "id": "1f90577c",
   "metadata": {},
   "outputs": [],
   "source": [
    "def get_births_on_date(date_input):\n",
    "    \"\"\"\n",
    "    Get number of births on a specific date.\n",
    "    \n",
    "    Args:\n",
    "        date_input (str): Date in format 'YYYY-MM-DD'\n",
    "    \n",
    "    Returns:\n",
    "        int or str: Number of births or error message\n",
    "    \"\"\"\n",
    "    try:\n",
    "        target_date = pd.to_datetime(date_input)\n",
    "        \n",
    "        if target_date in births_df.index:\n",
    "            births_count = births_df.loc[target_date, 'births']\n",
    "            return f\"On {date_input}, there were {births_count} births in Malaysia.\"\n",
    "        else:\n",
    "            return f\"No data available for {date_input}. Available range: {births_df.index.min().date()} to {births_df.index.max().date()}\"\n",
    "    \n",
    "    except Exception as e:\n",
    "        return f\"Invalid date format. Please use YYYY-MM-DD format. Error: {str(e)}\""
   ]
  },
  {
   "cell_type": "code",
   "execution_count": null,
   "id": "c433299b",
   "metadata": {},
   "outputs": [],
   "source": [
    "your_date = \"1995-08-17\"  # Change this to any date you want to check\n",
    "print(get_births_on_date(your_date))"
   ]
  },
  {
   "cell_type": "markdown",
   "id": "e3c63a00",
   "metadata": {},
   "source": [
    "### Birthday Popularity Analysis\n",
    "\n",
    "Let's discover which days of the year are the most and least popular for births in Malaysia. This analysis will help us understand birth patterns and identify interesting trends."
   ]
  },
  {
   "cell_type": "code",
   "execution_count": null,
   "id": "4c6653a8",
   "metadata": {},
   "outputs": [],
   "source": [
    "# Create month-day combinations to analyze birthday popularity\n",
    "# Extract month and day from the date index\n",
    "births_df['month'] = births_df.index.month\n",
    "births_df['day'] = births_df.index.day\n",
    "births_df['month_day'] = births_df.index.strftime('%m-%d')\n",
    "\n",
    "# Calculate average births per month-day combination across all years\n",
    "birthday_popularity = births_df.groupby('month_day')['births'].agg(['mean', 'sum', 'count']).round(2)\n",
    "birthday_popularity.columns = ['avg_births', 'total_births', 'years_recorded']\n",
    "\n",
    "print(\"Sample of birthday popularity data:\")\n",
    "print(birthday_popularity.head(10))"
   ]
  },
  {
   "cell_type": "code",
   "execution_count": null,
   "id": "20b727f6",
   "metadata": {},
   "outputs": [],
   "source": [
    "# Find the most and least popular birthdays\n",
    "most_popular = birthday_popularity.nlargest(10, 'avg_births')\n",
    "least_popular = birthday_popularity.nsmallest(10, 'avg_births')\n",
    "\n",
    "print(\"🎉 TOP 10 MOST POPULAR BIRTHDAYS:\")\n",
    "print(\"=\" * 50)\n",
    "for i, (date, row) in enumerate(most_popular.iterrows(), 1):\n",
    "    month_name = pd.to_datetime(f\"2024-{date}\").strftime('%B %d')\n",
    "    print(f\"{i:2d}. {month_name:<12} - Avg: {row['avg_births']:>6.1f} births/day\")\n",
    "\n",
    "print(\"\\n📉 TOP 10 LEAST POPULAR BIRTHDAYS:\")\n",
    "print(\"=\" * 50)\n",
    "for i, (date, row) in enumerate(least_popular.iterrows(), 1):\n",
    "    month_name = pd.to_datetime(f\"2024-{date}\").strftime('%B %d')\n",
    "    print(f\"{i:2d}. {month_name:<12} - Avg: {row['avg_births']:>6.1f} births/day\")"
   ]
  },
  {
   "cell_type": "code",
   "execution_count": null,
   "id": "b1bc6b6e",
   "metadata": {},
   "outputs": [],
   "source": [
    "# Function to check how rare your birthday is\n",
    "def check_birthday_rarity(birth_month, birth_day):\n",
    "    \"\"\"\n",
    "    Check how rare your birthday is compared to all other days.\n",
    "    \n",
    "    Args:\n",
    "        birth_month (int): Month of birth (1-12)\n",
    "        birth_day (int): Day of birth (1-31)\n",
    "    \n",
    "    Returns:\n",
    "        str: Rarity information\n",
    "    \"\"\"\n",
    "    try:\n",
    "        # Format the month-day string\n",
    "        month_day = f\"{birth_month:02d}-{birth_day:02d}\"\n",
    "        \n",
    "        if month_day not in birthday_popularity.index:\n",
    "            return f\"Invalid date: {birth_month}/{birth_day}\"\n",
    "        \n",
    "        your_avg = birthday_popularity.loc[month_day, 'avg_births']\n",
    "        \n",
    "        # Calculate percentile (what percentage of days have fewer births)\n",
    "        total_days = len(birthday_popularity)\n",
    "        days_with_fewer_births = (birthday_popularity['avg_births'] < your_avg).sum()\n",
    "        percentile = (days_with_fewer_births / total_days) * 100\n",
    "        \n",
    "        # Rank among all days\n",
    "        rank = birthday_popularity['avg_births'].rank(ascending=False)[month_day]\n",
    "        \n",
    "        month_name = pd.to_datetime(f\"2024-{month_day}\").strftime('%B %d')\n",
    "        \n",
    "        return f\"\"\"\n",
    "🎂 Birthday Rarity Report for {month_name}:\n",
    "   • Average births: {your_avg:.1f} per day\n",
    "   • Popularity rank: #{int(rank)} out of {total_days} days\n",
    "   • Percentile: {percentile:.1f}% (more popular than {percentile:.1f}% of days)\n",
    "   • Rarity level: {'Very Common' if percentile > 80 else 'Common' if percentile > 60 else 'Average' if percentile > 40 else 'Uncommon' if percentile > 20 else 'Very Rare'}\n",
    "        \"\"\"\n",
    "    except Exception as e:\n",
    "        return f\"Error: {str(e)}\"\n",
    "\n",
    "# Test with a few examples\n",
    "print(check_birthday_rarity(12, 25))  # Christmas\n",
    "print(check_birthday_rarity(1, 1))   # New Year's Day\n",
    "print(check_birthday_rarity(8, 17))  # Your example date"
   ]
  },
  {
   "cell_type": "markdown",
   "id": "20e412fe",
   "metadata": {},
   "source": [
    "### Seasonal Birth Patterns\n",
    "\n",
    "Let's explore how births vary throughout the year. Are there certain months or seasons when more babies are born? This analysis will reveal interesting patterns about birth seasonality in Malaysia."
   ]
  },
  {
   "cell_type": "code",
   "execution_count": null,
   "id": "80f694de",
   "metadata": {},
   "outputs": [],
   "source": [
    "# Analyze births by month\n",
    "monthly_births = births_df.groupby('month')['births'].agg(['sum', 'mean', 'count']).round(2)\n",
    "monthly_births.index = pd.to_datetime(monthly_births.index, format='%m').strftime('%B')\n",
    "\n",
    "print(\"BIRTHS BY MONTH:\")\n",
    "print(\"=\" * 60)\n",
    "print(f\"{'Month':<10} {'Total Births':<15} {'Avg/Day':<10} {'Days Recorded':<15}\")\n",
    "print(\"-\" * 60)\n",
    "\n",
    "for month, row in monthly_births.iterrows():\n",
    "    print(f\"{month:<10} {row['sum']:>12,.0f} {row['mean']:>9.1f} {row['count']:>12.0f}\")\n",
    "\n",
    "# Find peak and low months\n",
    "peak_month = monthly_births['mean'].idxmax()\n",
    "low_month = monthly_births['mean'].idxmin()\n",
    "peak_avg = monthly_births['mean'].max()\n",
    "low_avg = monthly_births['mean'].min()\n",
    "\n",
    "print(f\"\\n🏆 Peak birth month: {peak_month} ({peak_avg:.1f} births/day)\")\n",
    "print(f\"📉 Lowest birth month: {low_month} ({low_avg:.1f} births/day)\")\n",
    "print(f\"📊 Difference: {peak_avg - low_avg:.1f} births/day ({((peak_avg - low_avg) / low_avg * 100):.1f}% more)\")"
   ]
  },
  {
   "cell_type": "code",
   "execution_count": null,
   "id": "731d89c2",
   "metadata": {},
   "outputs": [],
   "source": [
    "# Analyze births by day of the week\n",
    "births_df['day_of_week'] = births_df.index.day_name()\n",
    "births_df['weekday_num'] = births_df.index.dayofweek  # Monday=0, Sunday=6\n",
    "\n",
    "weekly_pattern = births_df.groupby(['day_of_week', 'weekday_num'])['births'].agg(['mean', 'count']).round(2)\n",
    "weekly_pattern = weekly_pattern.sort_values('weekday_num')\n",
    "\n",
    "print(\"\\nBIRTHS BY DAY OF WEEK:\")\n",
    "print(\"=\" * 50)\n",
    "print(f\"{'Day':<10} {'Avg Births':<12} {'Days Recorded':<15}\")\n",
    "print(\"-\" * 50)\n",
    "\n",
    "for (day, weekday_num), row in weekly_pattern.iterrows():\n",
    "    print(f\"{day:<10} {row['mean']:>9.1f} {row['count']:>12.0f}\")\n",
    "\n",
    "# Find patterns\n",
    "peak_day = weekly_pattern['mean'].idxmax()[0]  # Get day name from tuple index\n",
    "low_day = weekly_pattern['mean'].idxmin()[0]\n",
    "peak_day_avg = weekly_pattern['mean'].max()\n",
    "low_day_avg = weekly_pattern['mean'].min()\n",
    "\n",
    "print(f\"\\n📈 Most births occur on: {peak_day} ({peak_day_avg:.1f} avg)\")\n",
    "print(f\"📉 Fewest births occur on: {low_day} ({low_day_avg:.1f} avg)\")\n",
    "\n",
    "# Check if weekends are different from weekdays\n",
    "weekend_avg = weekly_pattern.loc[['Saturday', 'Sunday'], 'mean'].mean()\n",
    "weekday_avg = weekly_pattern.loc[['Monday', 'Tuesday', 'Wednesday', 'Thursday', 'Friday'], 'mean'].mean()\n",
    "\n",
    "print(f\"\\n🏢 Weekday average: {weekday_avg:.1f} births/day\")\n",
    "print(f\"🏖️ Weekend average: {weekend_avg:.1f} births/day\")\n",
    "print(f\"Difference: {abs(weekday_avg - weekend_avg):.1f} births/day\")"
   ]
  },
  {
   "cell_type": "markdown",
   "id": "da4e802a",
   "metadata": {},
   "source": [
    "### Saving into different formats\n",
    "\n",
    "After cleaning and processing your data, you often need to save it for future use or sharing. Pandas provides several methods to export DataFrames to different file formats.\n",
    "\n",
    "**JSON Format**: Good for web applications and APIs. Preserves data structure but can be larger in file size.\n",
    "\n",
    "**Excel Format**: Popular for business users and data sharing. Supports multiple sheets and formatting.\n",
    "\n",
    "**CSV Format**: Universal format, lightweight, but loses data types and index information."
   ]
  },
  {
   "cell_type": "code",
   "execution_count": null,
   "id": "3c988f55",
   "metadata": {},
   "outputs": [],
   "source": [
    "# Save as Excel (requires openpyxl or xlsxwriter)\n",
    "!pip install openpyxl\n",
    "births_df.to_excel('births_data.xlsx', sheet_name='Malaysia_Births')\n",
    "print(\"✅ Saved as Excel: births_data.xlsx\")"
   ]
  },
  {
   "cell_type": "code",
   "execution_count": null,
   "id": "c38da897",
   "metadata": {},
   "outputs": [],
   "source": [
    "# Save as JSON\n",
    "# orient='records' creates a list of dictionaries (one per row)\n",
    "births_df.to_json('births_data.json', orient='records', date_format='iso')\n",
    "print(\"✅ Saved as JSON: births_data.json\")"
   ]
  }
 ],
 "metadata": {
  "kernelspec": {
   "display_name": ".venv",
   "language": "python",
   "name": "python3"
  },
  "language_info": {
   "codemirror_mode": {
    "name": "ipython",
    "version": 3
   },
   "file_extension": ".py",
   "mimetype": "text/x-python",
   "name": "python",
   "nbconvert_exporter": "python",
   "pygments_lexer": "ipython3",
   "version": "3.12.3"
  }
 },
 "nbformat": 4,
 "nbformat_minor": 5
}
