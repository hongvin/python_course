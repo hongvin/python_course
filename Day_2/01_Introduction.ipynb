{
 "cells": [
  {
   "cell_type": "markdown",
   "id": "8cadd96a",
   "metadata": {},
   "source": [
    "# Chapter 3: Python Pandas Tutorial"
   ]
  },
  {
   "cell_type": "markdown",
   "id": "26f490c0",
   "metadata": {},
   "source": [
    "The `pandas` package is the most important tool at the disposal of Data Scientists and Analysts working in Python today. The powerful machine learning and glamorous visualization tools may get all the attention, but pandas is the backbone of most data projects.\n",
    "\n",
    "> [pandas] is derived from the term \"**pan**el **da**ta\", an econometrics term for data sets that include observations over multiple time periods for the same individuals. "
   ]
  },
  {
   "cell_type": "markdown",
   "id": "b2248293",
   "metadata": {},
   "source": [
    "## What `pandas` for?\n",
    "\n",
    "`pandas` has so many uses that it might make sense to list the things it can't do instead of what it can do.'\n",
    "'\n",
    "This tool is essentially your data's home. Through `pandas`, you get acquainted with your data by cleaning, transforming, and analyzing it.\n",
    "\n",
    "For example, say you want to explore a dataset stored in a CSV on your computer. `pandas` will extract the data from that CSV into a `DataFrame` — a table, basically — then let you do things like:\n",
    "\n",
    "- Calculate statistics and answer questions about the data, like\n",
    "    - What's the average, median, max, or min of each column?\n",
    "    - Does column A correlate with column B?\n",
    "    - What does the distribution of data in column C look like?\n",
    "\n",
    "- Clean the data by doing things like removing missing values and filtering rows or columns by some criteria\n",
    "- Visualize the data with help from Matplotlib. Plot bars, lines, histograms, bubbles, and more.\n",
    "- Store the cleaned, transformed data back into a CSV, other file or database\n",
    "\n",
    "Before you jump into the modeling or the complex visualizations you need to have a good understanding of the nature of your dataset and pandas is the best avenue through which to do that."
   ]
  },
  {
   "cell_type": "markdown",
   "id": "b445ce3a",
   "metadata": {},
   "source": [
    "### First Steps: Install and import\n",
    "\n",
    "`pandas` is an easy package to install. To install in this notebook, we just run:"
   ]
  },
  {
   "cell_type": "code",
   "execution_count": null,
   "id": "48fc0934",
   "metadata": {},
   "outputs": [],
   "source": [
    "!pip install pandas"
   ]
  },
  {
   "cell_type": "markdown",
   "id": "9f7f9192",
   "metadata": {},
   "source": [
    "The `!` at the beginning runs cells as if they were in a terminal.\n",
    "\n",
    "To import `pandas` we usually import it with a shorter name since it's used so much:"
   ]
  },
  {
   "cell_type": "code",
   "execution_count": null,
   "id": "e006f978",
   "metadata": {},
   "outputs": [],
   "source": [
    "import pandas as pd"
   ]
  },
  {
   "cell_type": "markdown",
   "id": "54bab6da",
   "metadata": {},
   "source": [
    "### Core components of pandas: Series and DataFrames\n",
    "\n",
    "The primary two components of `pandas` are the `Series` and `DataFrame`.\n",
    "\n",
    "A `Series` is essentially a column, and a `DataFrame` is a multi-dimensional table made up of a collection of Series.\n",
    "\n",
    "<img src=\"images/img1.png\" />"
   ]
  },
  {
   "cell_type": "markdown",
   "id": "07b4231c",
   "metadata": {},
   "source": [
    "`DataFrames` and `Series` are quite similar in that many operations that you can do with one you can do with the other, such as filling in null values and calculating the mean.\n",
    "\n",
    "You'll see how these components work when we start working with data below.\n",
    "\n",
    "### Creating `DataFrames` from scratch\n",
    "\n",
    "Creating `DataFrames` right in Python is good to know and quite useful when testing new methods and functions you find in the pandas docs.\n",
    "\n",
    "There are many ways to create a DataFrame from scratch, but a great option is to just use a simple dict.\n",
    "\n",
    "Let's say we have a fruit stand that sells apples and oranges. We want to have a column for each fruit and a row for each customer purchase. To organize this as a dictionary for pandas we could do something like:"
   ]
  },
  {
   "cell_type": "code",
   "execution_count": null,
   "id": "f81a93ae",
   "metadata": {},
   "outputs": [],
   "source": [
    "data = {\n",
    "    'durians': [4, 55, 32, 13], \n",
    "    'apples': [3, 56, 3, 1]\n",
    "}\n",
    "\n",
    "fruit = pd.DataFrame(data)\n",
    "fruit"
   ]
  },
  {
   "cell_type": "markdown",
   "id": "7cfb2184",
   "metadata": {},
   "source": [
    "Each item (key, value) in data corresponds to a column in the resulting `DataFrame`.\n",
    "\n",
    "The Index of this DataFrame was given to us on creation as the numbers 0-3, but we could also create our own when we initialize the `DataFrame`.\n",
    "\n",
    "Let's put customer names as our index:"
   ]
  },
  {
   "cell_type": "code",
   "execution_count": null,
   "id": "d97fda60",
   "metadata": {},
   "outputs": [],
   "source": [
    "fruit = pd.DataFrame(data, index=['Ali', 'Abu', 'Lim', 'Muthu'])\n",
    "\n",
    "fruit"
   ]
  },
  {
   "cell_type": "markdown",
   "id": "f5d37bbc",
   "metadata": {},
   "source": [
    "### Locating the customer\n",
    "\n",
    "We can locate a customer's order by using their name with loc."
   ]
  },
  {
   "cell_type": "code",
   "execution_count": null,
   "id": "e105179e",
   "metadata": {},
   "outputs": [],
   "source": [
    "fruit.loc['Ali']"
   ]
  },
  {
   "cell_type": "markdown",
   "id": "5541c017",
   "metadata": {},
   "source": [
    "## Mini Project: Birthday Explorer\n",
    "\n",
    "Explore any date from 1920 to 2022 using Malaysia’s daily birth counts.\n",
    "\n",
    "- Goal: Build a small, data-driven “explorer” to answer questions about birthdays using the official dataset.\n",
    "- Data source: births.csv (daily births), 1920–2022  \n",
    "  URL: https://storage.data.gov.my/demography/births.csv\n",
    "\n",
    "What you’ll build\n",
    "- Date lookup: Enter a date (YYYY-MM-DD) and show the number of births on that day.\n",
    "- Birthday profile: For a given month-day (e.g., 14-Feb), summarize births across years (trend, averages, min/max).\n",
    "- Seasonality views: Explore patterns by month and by day-of-week; visualize spikes (e.g., festive periods).\n",
    "- Fun facts:\n",
    "  - Most/least common birthdays.\n",
    "  - Your birthday’s percentile/rarity across the year.\n",
    "  - Leap day handling and nearby-day comparison for Feb 29 birthdays.\n",
    "- Data quality checks: Identify missing dates, early-year gaps, and outliers.\n"
   ]
  },
  {
   "cell_type": "markdown",
   "id": "5218fd44",
   "metadata": {},
   "source": [
    "### Reading CSV File\n",
    "\n",
    "We will need to first load the CSV file. To do this, we use `read_csv()` function. This function accepts an URL or a file."
   ]
  },
  {
   "cell_type": "code",
   "execution_count": null,
   "id": "07d3c565",
   "metadata": {},
   "outputs": [],
   "source": [
    "url = \"https://storage.data.gov.my/demography/births.csv\"\n",
    "births_df = pd.read_csv(url)"
   ]
  },
  {
   "cell_type": "markdown",
   "id": "72a8891f",
   "metadata": {},
   "source": [
    "Alternatively, to load using local file, we can:"
   ]
  },
  {
   "cell_type": "code",
   "execution_count": null,
   "id": "51122a7f",
   "metadata": {},
   "outputs": [],
   "source": [
    "births_local_df = pd.read_csv(\"births.csv\")"
   ]
  },
  {
   "cell_type": "markdown",
   "id": "5b212b04",
   "metadata": {},
   "source": [
    "We can look for the shape of the dataframe as below:"
   ]
  },
  {
   "cell_type": "code",
   "execution_count": null,
   "id": "44cd71c9",
   "metadata": {},
   "outputs": [],
   "source": [
    "births_df.shape"
   ]
  },
  {
   "cell_type": "markdown",
   "id": "234350d1",
   "metadata": {},
   "source": [
    "Now, let's see what column is in the data."
   ]
  },
  {
   "cell_type": "code",
   "execution_count": null,
   "id": "48225299",
   "metadata": {},
   "outputs": [],
   "source": [
    "births_df.columns.tolist()"
   ]
  },
  {
   "cell_type": "markdown",
   "id": "bb380edc",
   "metadata": {},
   "source": [
    "The first few row of the dataframe."
   ]
  },
  {
   "cell_type": "code",
   "execution_count": null,
   "id": "f091336b",
   "metadata": {},
   "outputs": [],
   "source": [
    "births_df.head()"
   ]
  },
  {
   "cell_type": "markdown",
   "id": "527f3893",
   "metadata": {},
   "source": [
    "### Clean the data\n",
    "\n",
    "Remove the `state` column since it's all 'Malaysia'"
   ]
  },
  {
   "cell_type": "code",
   "execution_count": null,
   "id": "5754a8b5",
   "metadata": {},
   "outputs": [],
   "source": [
    "births_df = births_df.drop('state', axis=1)"
   ]
  },
  {
   "cell_type": "markdown",
   "id": "1fac539c",
   "metadata": {},
   "source": [
    "Convert date column to proper `datetime` format"
   ]
  },
  {
   "cell_type": "code",
   "execution_count": null,
   "id": "b3bec602",
   "metadata": {},
   "outputs": [],
   "source": [
    "births_df['date'] = pd.to_datetime(births_df['date'])"
   ]
  },
  {
   "cell_type": "markdown",
   "id": "cf4d701e",
   "metadata": {},
   "source": [
    "Set date as index for faster lookups"
   ]
  },
  {
   "cell_type": "code",
   "execution_count": null,
   "id": "392bdce3",
   "metadata": {},
   "outputs": [],
   "source": [
    "births_df = births_df.set_index('date')"
   ]
  },
  {
   "cell_type": "markdown",
   "id": "82720ac9",
   "metadata": {},
   "source": [
    "Now, let's see the first few row of the dataframe after the operations above."
   ]
  },
  {
   "cell_type": "code",
   "execution_count": null,
   "id": "c9af2111",
   "metadata": {},
   "outputs": [],
   "source": [
    "births_df.head()"
   ]
  },
  {
   "cell_type": "markdown",
   "id": "5dd0bb70",
   "metadata": {},
   "source": [
    "### Finding how common is your birthdate"
   ]
  },
  {
   "cell_type": "code",
   "execution_count": null,
   "id": "1f90577c",
   "metadata": {},
   "outputs": [],
   "source": [
    "def get_births_on_date(date_input):\n",
    "    \"\"\"\n",
    "    Get number of births on a specific date.\n",
    "    \n",
    "    Args:\n",
    "        date_input (str): Date in format 'YYYY-MM-DD'\n",
    "    \n",
    "    Returns:\n",
    "        int or str: Number of births or error message\n",
    "    \"\"\"\n",
    "    try:\n",
    "        target_date = pd.to_datetime(date_input)\n",
    "        \n",
    "        if target_date in births_df.index:\n",
    "            births_count = births_df.loc[target_date, 'births']\n",
    "            return f\"On {date_input}, there were {births_count} births in Malaysia.\"\n",
    "        else:\n",
    "            return f\"No data available for {date_input}. Available range: {births_df.index.min().date()} to {births_df.index.max().date()}\"\n",
    "    \n",
    "    except Exception as e:\n",
    "        return f\"Invalid date format. Please use YYYY-MM-DD format. Error: {str(e)}\""
   ]
  },
  {
   "cell_type": "code",
   "execution_count": null,
   "id": "c433299b",
   "metadata": {},
   "outputs": [],
   "source": [
    "your_date = \"1995-08-17\"  # Change this to any date you want to check\n",
    "print(get_births_on_date(your_date))"
   ]
  },
  {
   "cell_type": "markdown",
   "id": "da4e802a",
   "metadata": {},
   "source": [
    "### Saving into different formats\n",
    "\n",
    "After cleaning and processing your data, you often need to save it for future use or sharing. Pandas provides several methods to export DataFrames to different file formats.\n",
    "\n",
    "**JSON Format**: Good for web applications and APIs. Preserves data structure but can be larger in file size.\n",
    "\n",
    "**Excel Format**: Popular for business users and data sharing. Supports multiple sheets and formatting.\n",
    "\n",
    "**CSV Format**: Universal format, lightweight, but loses data types and index information."
   ]
  },
  {
   "cell_type": "code",
   "execution_count": null,
   "id": "3c988f55",
   "metadata": {},
   "outputs": [],
   "source": [
    "# Save as Excel (requires openpyxl or xlsxwriter)\n",
    "!pip install openpyxl\n",
    "births_df.to_excel('births_data.xlsx', sheet_name='Malaysia_Births')\n",
    "print(\"✅ Saved as Excel: births_data.xlsx\")"
   ]
  },
  {
   "cell_type": "code",
   "execution_count": null,
   "id": "c38da897",
   "metadata": {},
   "outputs": [],
   "source": [
    "# Save as JSON\n",
    "# orient='records' creates a list of dictionaries (one per row)\n",
    "births_df.to_json('births_data.json', orient='records', date_format='iso')\n",
    "print(\"✅ Saved as JSON: births_data.json\")"
   ]
  }
 ],
 "metadata": {
  "kernelspec": {
   "display_name": "Python 3",
   "language": "python",
   "name": "python3"
  },
  "language_info": {
   "codemirror_mode": {
    "name": "ipython",
    "version": 3
   },
   "file_extension": ".py",
   "mimetype": "text/x-python",
   "name": "python",
   "nbconvert_exporter": "python",
   "pygments_lexer": "ipython3",
   "version": "3.12.1"
  }
 },
 "nbformat": 4,
 "nbformat_minor": 5
}
