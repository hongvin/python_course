{
 "cells": [
  {
   "cell_type": "markdown",
   "id": "8cadd96a",
   "metadata": {},
   "source": [
    "# Chapter 3: Python Pandas Tutorial"
   ]
  },
  {
   "cell_type": "markdown",
   "id": "26f490c0",
   "metadata": {},
   "source": [
    "The `pandas` package is the most important tool at the disposal of Data Scientists and Analysts working in Python today. The powerful machine learning and glamorous visualization tools may get all the attention, but pandas is the backbone of most data projects.\n",
    "\n",
    "> [pandas] is derived from the term \"**pan**el **da**ta\", an econometrics term for data sets that include observations over multiple time periods for the same individuals. "
   ]
  },
  {
   "cell_type": "markdown",
   "id": "b2248293",
   "metadata": {},
   "source": [
    "## What `pandas` for?\n",
    "\n",
    "`pandas` has so many uses that it might make sense to list the things it can't do instead of what it can do.'\n",
    "'\n",
    "This tool is essentially your data's home. Through `pandas`, you get acquainted with your data by cleaning, transforming, and analyzing it.\n",
    "\n",
    "For example, say you want to explore a dataset stored in a CSV on your computer. `pandas` will extract the data from that CSV into a `DataFrame` — a table, basically — then let you do things like:\n",
    "\n",
    "- Calculate statistics and answer questions about the data, like\n",
    "    - What's the average, median, max, or min of each column?\n",
    "    - Does column A correlate with column B?\n",
    "    - What does the distribution of data in column C look like?\n",
    "\n",
    "- Clean the data by doing things like removing missing values and filtering rows or columns by some criteria\n",
    "- Visualize the data with help from Matplotlib. Plot bars, lines, histograms, bubbles, and more.\n",
    "- Store the cleaned, transformed data back into a CSV, other file or database\n",
    "\n",
    "Before you jump into the modeling or the complex visualizations you need to have a good understanding of the nature of your dataset and pandas is the best avenue through which to do that."
   ]
  },
  {
   "cell_type": "markdown",
   "id": "b445ce3a",
   "metadata": {},
   "source": [
    "### First Steps: Install and import\n",
    "\n",
    "`pandas` is an easy package to install. To install in this notebook, we just run:"
   ]
  },
  {
   "cell_type": "code",
   "execution_count": 32,
   "id": "48fc0934",
   "metadata": {},
   "outputs": [
    {
     "name": "stdout",
     "output_type": "stream",
     "text": [
      "Requirement already satisfied: pandas in /home/codespace/.local/lib/python3.12/site-packages (2.3.1)\n",
      "Requirement already satisfied: numpy>=1.26.0 in /home/codespace/.local/lib/python3.12/site-packages (from pandas) (2.3.1)\n",
      "Requirement already satisfied: python-dateutil>=2.8.2 in /home/codespace/.local/lib/python3.12/site-packages (from pandas) (2.9.0.post0)\n",
      "Requirement already satisfied: pytz>=2020.1 in /home/codespace/.local/lib/python3.12/site-packages (from pandas) (2025.2)\n",
      "Requirement already satisfied: tzdata>=2022.7 in /home/codespace/.local/lib/python3.12/site-packages (from pandas) (2025.2)\n",
      "Requirement already satisfied: six>=1.5 in /home/codespace/.local/lib/python3.12/site-packages (from python-dateutil>=2.8.2->pandas) (1.17.0)\n",
      "\n",
      "\u001b[1m[\u001b[0m\u001b[34;49mnotice\u001b[0m\u001b[1;39;49m]\u001b[0m\u001b[39;49m A new release of pip is available: \u001b[0m\u001b[31;49m25.1.1\u001b[0m\u001b[39;49m -> \u001b[0m\u001b[32;49m25.2\u001b[0m\n",
      "\u001b[1m[\u001b[0m\u001b[34;49mnotice\u001b[0m\u001b[1;39;49m]\u001b[0m\u001b[39;49m To update, run: \u001b[0m\u001b[32;49mpython3 -m pip install --upgrade pip\u001b[0m\n"
     ]
    }
   ],
   "source": [
    "!pip install pandas"
   ]
  },
  {
   "cell_type": "markdown",
   "id": "9f7f9192",
   "metadata": {},
   "source": [
    "The `!` at the beginning runs cells as if they were in a terminal.\n",
    "\n",
    "To import `pandas` we usually import it with a shorter name since it's used so much:"
   ]
  },
  {
   "cell_type": "code",
   "execution_count": 33,
   "id": "e006f978",
   "metadata": {},
   "outputs": [],
   "source": [
    "import pandas as pd"
   ]
  },
  {
   "cell_type": "markdown",
   "id": "54bab6da",
   "metadata": {},
   "source": [
    "### Core components of pandas: Series and DataFrames\n",
    "\n",
    "The primary two components of `pandas` are the `Series` and `DataFrame`.\n",
    "\n",
    "A `Series` is essentially a column, and a `DataFrame` is a multi-dimensional table made up of a collection of Series.\n",
    "\n",
    "<img src=\"images/img1.png\" />"
   ]
  },
  {
   "cell_type": "markdown",
   "id": "07b4231c",
   "metadata": {},
   "source": [
    "`DataFrames` and `Series` are quite similar in that many operations that you can do with one you can do with the other, such as filling in null values and calculating the mean.\n",
    "\n",
    "You'll see how these components work when we start working with data below.\n",
    "\n",
    "### Creating `DataFrames` from scratch\n",
    "\n",
    "Creating `DataFrames` right in Python is good to know and quite useful when testing new methods and functions you find in the pandas docs.\n",
    "\n",
    "There are many ways to create a DataFrame from scratch, but a great option is to just use a simple dict.\n",
    "\n",
    "Let's say we have a fruit stand that sells apples and oranges. We want to have a column for each fruit and a row for each customer purchase. To organize this as a dictionary for pandas we could do something like:"
   ]
  },
  {
   "cell_type": "code",
   "execution_count": 34,
   "id": "f81a93ae",
   "metadata": {},
   "outputs": [
    {
     "data": {
      "text/html": [
       "<div>\n",
       "<style scoped>\n",
       "    .dataframe tbody tr th:only-of-type {\n",
       "        vertical-align: middle;\n",
       "    }\n",
       "\n",
       "    .dataframe tbody tr th {\n",
       "        vertical-align: top;\n",
       "    }\n",
       "\n",
       "    .dataframe thead th {\n",
       "        text-align: right;\n",
       "    }\n",
       "</style>\n",
       "<table border=\"1\" class=\"dataframe\">\n",
       "  <thead>\n",
       "    <tr style=\"text-align: right;\">\n",
       "      <th></th>\n",
       "      <th>durians</th>\n",
       "      <th>apples</th>\n",
       "    </tr>\n",
       "  </thead>\n",
       "  <tbody>\n",
       "    <tr>\n",
       "      <th>0</th>\n",
       "      <td>4</td>\n",
       "      <td>3</td>\n",
       "    </tr>\n",
       "    <tr>\n",
       "      <th>1</th>\n",
       "      <td>55</td>\n",
       "      <td>56</td>\n",
       "    </tr>\n",
       "    <tr>\n",
       "      <th>2</th>\n",
       "      <td>32</td>\n",
       "      <td>3</td>\n",
       "    </tr>\n",
       "    <tr>\n",
       "      <th>3</th>\n",
       "      <td>13</td>\n",
       "      <td>1</td>\n",
       "    </tr>\n",
       "  </tbody>\n",
       "</table>\n",
       "</div>"
      ],
      "text/plain": [
       "   durians  apples\n",
       "0        4       3\n",
       "1       55      56\n",
       "2       32       3\n",
       "3       13       1"
      ]
     },
     "execution_count": 34,
     "metadata": {},
     "output_type": "execute_result"
    }
   ],
   "source": [
    "data = {\n",
    "    'durians': [4, 55, 32, 13], \n",
    "    'apples': [3, 56, 3, 1]\n",
    "}\n",
    "\n",
    "fruit = pd.DataFrame(data)\n",
    "fruit"
   ]
  },
  {
   "cell_type": "markdown",
   "id": "7cfb2184",
   "metadata": {},
   "source": [
    "Each item (key, value) in data corresponds to a column in the resulting `DataFrame`.\n",
    "\n",
    "The Index of this DataFrame was given to us on creation as the numbers 0-3, but we could also create our own when we initialize the `DataFrame`.\n",
    "\n",
    "Let's put customer names as our index:"
   ]
  },
  {
   "cell_type": "code",
   "execution_count": 35,
   "id": "d97fda60",
   "metadata": {},
   "outputs": [
    {
     "data": {
      "text/html": [
       "<div>\n",
       "<style scoped>\n",
       "    .dataframe tbody tr th:only-of-type {\n",
       "        vertical-align: middle;\n",
       "    }\n",
       "\n",
       "    .dataframe tbody tr th {\n",
       "        vertical-align: top;\n",
       "    }\n",
       "\n",
       "    .dataframe thead th {\n",
       "        text-align: right;\n",
       "    }\n",
       "</style>\n",
       "<table border=\"1\" class=\"dataframe\">\n",
       "  <thead>\n",
       "    <tr style=\"text-align: right;\">\n",
       "      <th></th>\n",
       "      <th>durians</th>\n",
       "      <th>apples</th>\n",
       "    </tr>\n",
       "  </thead>\n",
       "  <tbody>\n",
       "    <tr>\n",
       "      <th>Ali</th>\n",
       "      <td>4</td>\n",
       "      <td>3</td>\n",
       "    </tr>\n",
       "    <tr>\n",
       "      <th>Abu</th>\n",
       "      <td>55</td>\n",
       "      <td>56</td>\n",
       "    </tr>\n",
       "    <tr>\n",
       "      <th>Lim</th>\n",
       "      <td>32</td>\n",
       "      <td>3</td>\n",
       "    </tr>\n",
       "    <tr>\n",
       "      <th>Muthu</th>\n",
       "      <td>13</td>\n",
       "      <td>1</td>\n",
       "    </tr>\n",
       "  </tbody>\n",
       "</table>\n",
       "</div>"
      ],
      "text/plain": [
       "       durians  apples\n",
       "Ali          4       3\n",
       "Abu         55      56\n",
       "Lim         32       3\n",
       "Muthu       13       1"
      ]
     },
     "execution_count": 35,
     "metadata": {},
     "output_type": "execute_result"
    }
   ],
   "source": [
    "fruit = pd.DataFrame(data, index=['Ali', 'Abu', 'Lim', 'Muthu'])\n",
    "\n",
    "fruit"
   ]
  },
  {
   "cell_type": "markdown",
   "id": "f5d37bbc",
   "metadata": {},
   "source": [
    "### Locating the customer\n",
    "\n",
    "We can locate a customer's order by using their name with loc."
   ]
  },
  {
   "cell_type": "code",
   "execution_count": null,
   "id": "e105179e",
   "metadata": {},
   "outputs": [],
   "source": [
    "fruit.loc['Ali']"
   ]
  },
  {
   "cell_type": "markdown",
   "id": "5541c017",
   "metadata": {},
   "source": [
    "## Mini Project: Birthday Explorer\n",
    "\n",
    "Explore any date from 1920 to 2022 using Malaysia’s daily birth counts.\n",
    "\n",
    "- Goal: Build a small, data-driven “explorer” to answer questions about birthdays using the official dataset.\n",
    "- Data source: births.csv (daily births), 1920–2022  \n",
    "  URL: https://storage.data.gov.my/demography/births.csv\n",
    "\n",
    "What you’ll build\n",
    "- Date lookup: Enter a date (YYYY-MM-DD) and show the number of births on that day.\n",
    "- Birthday profile: For a given month-day (e.g., 14-Feb), summarize births across years (trend, averages, min/max).\n",
    "- Seasonality views: Explore patterns by month and by day-of-week; visualize spikes (e.g., festive periods).\n",
    "- Fun facts:\n",
    "  - Most/least common birthdays.\n",
    "  - Your birthday’s percentile/rarity across the year.\n",
    "  - Leap day handling and nearby-day comparison for Feb 29 birthdays.\n",
    "- Data quality checks: Identify missing dates, early-year gaps, and outliers.\n"
   ]
  },
  {
   "cell_type": "markdown",
   "id": "5218fd44",
   "metadata": {},
   "source": [
    "### Reading CSV File\n",
    "\n",
    "We will need to first load the CSV file. To do this, we use `read_csv()` function. This function accepts an URL or a file."
   ]
  },
  {
   "cell_type": "code",
   "execution_count": 36,
   "id": "07d3c565",
   "metadata": {},
   "outputs": [],
   "source": [
    "url = \"https://storage.data.gov.my/demography/births.csv\"\n",
    "births_df = pd.read_csv(url)"
   ]
  },
  {
   "cell_type": "markdown",
   "id": "72a8891f",
   "metadata": {},
   "source": [
    "Alternatively, to load using local file, we can:"
   ]
  },
  {
   "cell_type": "code",
   "execution_count": null,
   "id": "51122a7f",
   "metadata": {},
   "outputs": [],
   "source": [
    "births_local_df = pd.read_csv(\"births.csv\")"
   ]
  },
  {
   "cell_type": "markdown",
   "id": "5b212b04",
   "metadata": {},
   "source": [
    "We can look for the shape of the dataframe as below:"
   ]
  },
  {
   "cell_type": "code",
   "execution_count": 37,
   "id": "44cd71c9",
   "metadata": {},
   "outputs": [
    {
     "data": {
      "text/plain": [
       "(37833, 3)"
      ]
     },
     "execution_count": 37,
     "metadata": {},
     "output_type": "execute_result"
    }
   ],
   "source": [
    "births_df.shape"
   ]
  },
  {
   "cell_type": "markdown",
   "id": "234350d1",
   "metadata": {},
   "source": [
    "Now, let's see what column is in the data."
   ]
  },
  {
   "cell_type": "code",
   "execution_count": 38,
   "id": "48225299",
   "metadata": {},
   "outputs": [
    {
     "data": {
      "text/plain": [
       "['date', 'state', 'births']"
      ]
     },
     "execution_count": 38,
     "metadata": {},
     "output_type": "execute_result"
    }
   ],
   "source": [
    "births_df.columns.tolist()"
   ]
  },
  {
   "cell_type": "markdown",
   "id": "bb380edc",
   "metadata": {},
   "source": [
    "The first few row of the dataframe."
   ]
  },
  {
   "cell_type": "code",
   "execution_count": 39,
   "id": "f091336b",
   "metadata": {},
   "outputs": [
    {
     "data": {
      "text/html": [
       "<div>\n",
       "<style scoped>\n",
       "    .dataframe tbody tr th:only-of-type {\n",
       "        vertical-align: middle;\n",
       "    }\n",
       "\n",
       "    .dataframe tbody tr th {\n",
       "        vertical-align: top;\n",
       "    }\n",
       "\n",
       "    .dataframe thead th {\n",
       "        text-align: right;\n",
       "    }\n",
       "</style>\n",
       "<table border=\"1\" class=\"dataframe\">\n",
       "  <thead>\n",
       "    <tr style=\"text-align: right;\">\n",
       "      <th></th>\n",
       "      <th>date</th>\n",
       "      <th>state</th>\n",
       "      <th>births</th>\n",
       "    </tr>\n",
       "  </thead>\n",
       "  <tbody>\n",
       "    <tr>\n",
       "      <th>0</th>\n",
       "      <td>1920-01-01</td>\n",
       "      <td>Malaysia</td>\n",
       "      <td>96</td>\n",
       "    </tr>\n",
       "    <tr>\n",
       "      <th>1</th>\n",
       "      <td>1920-01-02</td>\n",
       "      <td>Malaysia</td>\n",
       "      <td>115</td>\n",
       "    </tr>\n",
       "    <tr>\n",
       "      <th>2</th>\n",
       "      <td>1920-01-03</td>\n",
       "      <td>Malaysia</td>\n",
       "      <td>111</td>\n",
       "    </tr>\n",
       "    <tr>\n",
       "      <th>3</th>\n",
       "      <td>1920-01-04</td>\n",
       "      <td>Malaysia</td>\n",
       "      <td>101</td>\n",
       "    </tr>\n",
       "    <tr>\n",
       "      <th>4</th>\n",
       "      <td>1920-01-05</td>\n",
       "      <td>Malaysia</td>\n",
       "      <td>95</td>\n",
       "    </tr>\n",
       "  </tbody>\n",
       "</table>\n",
       "</div>"
      ],
      "text/plain": [
       "         date     state  births\n",
       "0  1920-01-01  Malaysia      96\n",
       "1  1920-01-02  Malaysia     115\n",
       "2  1920-01-03  Malaysia     111\n",
       "3  1920-01-04  Malaysia     101\n",
       "4  1920-01-05  Malaysia      95"
      ]
     },
     "execution_count": 39,
     "metadata": {},
     "output_type": "execute_result"
    }
   ],
   "source": [
    "births_df.head()"
   ]
  },
  {
   "cell_type": "markdown",
   "id": "527f3893",
   "metadata": {},
   "source": [
    "### Clean the data\n",
    "\n",
    "Remove the `state` column since it's all 'Malaysia'"
   ]
  },
  {
   "cell_type": "code",
   "execution_count": 40,
   "id": "5754a8b5",
   "metadata": {},
   "outputs": [],
   "source": [
    "births_df = births_df.drop('state', axis=1)"
   ]
  },
  {
   "cell_type": "markdown",
   "id": "1fac539c",
   "metadata": {},
   "source": [
    "Convert date column to proper `datetime` format"
   ]
  },
  {
   "cell_type": "code",
   "execution_count": 41,
   "id": "b3bec602",
   "metadata": {},
   "outputs": [],
   "source": [
    "births_df['date'] = pd.to_datetime(births_df['date'])"
   ]
  },
  {
   "cell_type": "markdown",
   "id": "cf4d701e",
   "metadata": {},
   "source": [
    "Set date as index for faster lookups"
   ]
  },
  {
   "cell_type": "code",
   "execution_count": 42,
   "id": "392bdce3",
   "metadata": {},
   "outputs": [],
   "source": [
    "births_df = births_df.set_index('date')"
   ]
  },
  {
   "cell_type": "markdown",
   "id": "82720ac9",
   "metadata": {},
   "source": [
    "Now, let's see the first few row of the dataframe after the operations above."
   ]
  },
  {
   "cell_type": "code",
   "execution_count": 43,
   "id": "c9af2111",
   "metadata": {},
   "outputs": [
    {
     "data": {
      "text/html": [
       "<div>\n",
       "<style scoped>\n",
       "    .dataframe tbody tr th:only-of-type {\n",
       "        vertical-align: middle;\n",
       "    }\n",
       "\n",
       "    .dataframe tbody tr th {\n",
       "        vertical-align: top;\n",
       "    }\n",
       "\n",
       "    .dataframe thead th {\n",
       "        text-align: right;\n",
       "    }\n",
       "</style>\n",
       "<table border=\"1\" class=\"dataframe\">\n",
       "  <thead>\n",
       "    <tr style=\"text-align: right;\">\n",
       "      <th></th>\n",
       "      <th>births</th>\n",
       "    </tr>\n",
       "    <tr>\n",
       "      <th>date</th>\n",
       "      <th></th>\n",
       "    </tr>\n",
       "  </thead>\n",
       "  <tbody>\n",
       "    <tr>\n",
       "      <th>1920-01-01</th>\n",
       "      <td>96</td>\n",
       "    </tr>\n",
       "    <tr>\n",
       "      <th>1920-01-02</th>\n",
       "      <td>115</td>\n",
       "    </tr>\n",
       "    <tr>\n",
       "      <th>1920-01-03</th>\n",
       "      <td>111</td>\n",
       "    </tr>\n",
       "    <tr>\n",
       "      <th>1920-01-04</th>\n",
       "      <td>101</td>\n",
       "    </tr>\n",
       "    <tr>\n",
       "      <th>1920-01-05</th>\n",
       "      <td>95</td>\n",
       "    </tr>\n",
       "  </tbody>\n",
       "</table>\n",
       "</div>"
      ],
      "text/plain": [
       "            births\n",
       "date              \n",
       "1920-01-01      96\n",
       "1920-01-02     115\n",
       "1920-01-03     111\n",
       "1920-01-04     101\n",
       "1920-01-05      95"
      ]
     },
     "execution_count": 43,
     "metadata": {},
     "output_type": "execute_result"
    }
   ],
   "source": [
    "births_df.head()"
   ]
  },
  {
   "cell_type": "markdown",
   "id": "5dd0bb70",
   "metadata": {},
   "source": [
    "### Finding how common is your birthdate"
   ]
  },
  {
   "cell_type": "code",
   "execution_count": 44,
   "id": "1f90577c",
   "metadata": {},
   "outputs": [],
   "source": [
    "def get_births_on_date(date_input):\n",
    "    \"\"\"\n",
    "    Get number of births on a specific date.\n",
    "    \n",
    "    Args:\n",
    "        date_input (str): Date in format 'YYYY-MM-DD'\n",
    "    \n",
    "    Returns:\n",
    "        int or str: Number of births or error message\n",
    "    \"\"\"\n",
    "    try:\n",
    "        target_date = pd.to_datetime(date_input)\n",
    "        \n",
    "        if target_date in births_df.index:\n",
    "            births_count = births_df.loc[target_date, 'births']\n",
    "            return f\"On {date_input}, there were {births_count} births in Malaysia.\"\n",
    "        else:\n",
    "            return f\"No data available for {date_input}. Available range: {births_df.index.min().date()} to {births_df.index.max().date()}\"\n",
    "    \n",
    "    except Exception as e:\n",
    "        return f\"Invalid date format. Please use YYYY-MM-DD format. Error: {str(e)}\""
   ]
  },
  {
   "cell_type": "code",
   "execution_count": 45,
   "id": "c433299b",
   "metadata": {},
   "outputs": [
    {
     "name": "stdout",
     "output_type": "stream",
     "text": [
      "On 1995-08-17, there were 1758 births in Malaysia.\n"
     ]
    }
   ],
   "source": [
    "your_date = \"1995-08-17\"  # Change this to any date you want to check\n",
    "print(get_births_on_date(your_date))"
   ]
  }
 ],
 "metadata": {
  "kernelspec": {
   "display_name": "Python 3",
   "language": "python",
   "name": "python3"
  },
  "language_info": {
   "codemirror_mode": {
    "name": "ipython",
    "version": 3
   },
   "file_extension": ".py",
   "mimetype": "text/x-python",
   "name": "python",
   "nbconvert_exporter": "python",
   "pygments_lexer": "ipython3",
   "version": "3.12.1"
  }
 },
 "nbformat": 4,
 "nbformat_minor": 5
}
