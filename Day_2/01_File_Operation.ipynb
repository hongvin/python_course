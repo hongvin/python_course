{
 "cells": [
  {
   "cell_type": "markdown",
   "id": "25c137d3",
   "metadata": {},
   "source": [
    "# Chapter 3: Python File Operations for Beginners\n",
    "\n",
    "Welcome! In this notebook, you'll learn how to work with files in Python step by step. We'll keep it practical and beginner-friendly with short examples and mini-exercises.\n",
    "\n",
    "What you'll learn:\n",
    "- What file paths are (absolute vs. relative) and how to work with them safely\n",
    "- How to open and close files the right way (context managers)\n",
    "- How to read from and write to text files\n",
    "- How to append to existing files\n",
    "- How to handle encodings (like UTF-8) and basic errors\n",
    "- How to work with CSV and JSON files using Python's standard library\n",
    "- How to read/write binary files (like images)\n",
    "- A few quick exercises to practice\n",
    "\n",
    "Tip: Run cells from top to bottom. If a cell fails, re-run the earlier ones first."
   ]
  },
  {
   "cell_type": "code",
   "execution_count": null,
   "id": "f712bb72",
   "metadata": {},
   "outputs": [],
   "source": [
    "# Setup: Create a working folder for this notebook\n",
    "from pathlib import Path\n",
    "import os, textwrap\n",
    "\n",
    "BASE = Path(\"./_file_ops_demo\")\n",
    "BASE.mkdir(exist_ok=True)\n",
    "print(\"Working in:\", BASE.resolve())\n",
    "\n",
    "# Helper: list files in our working folder\n",
    "for p in sorted(BASE.glob(\"**/*\")):\n",
    "    print(\"-\", p)"
   ]
  },
  {
   "cell_type": "markdown",
   "id": "7f596c97",
   "metadata": {},
   "source": [
    "## Understanding File Paths\n",
    "\n",
    "- Absolute path: starts from the drive root (e.g., `/home/user/docs/file.txt`).\n",
    "- Relative path: starts from the current working directory (this notebook's folder).\n",
    "\n",
    "We'll use `pathlib` for paths. It's safer and more readable than string paths.\n",
    "\n",
    "Examples:\n",
    "- `Path(\"notes.txt\")` — a file in the current folder\n",
    "- `Path(\"data\") / \"notes.txt\"` — uses `/` to join paths in a cross-platform way\n",
    "- `p.exists()`, `p.is_file()`, `p.is_dir()` — quick checks"
   ]
  },
  {
   "cell_type": "code",
   "execution_count": null,
   "id": "5d349ec2",
   "metadata": {},
   "outputs": [],
   "source": [
    "from pathlib import Path\n",
    "\n",
    "subdir = BASE / \"data\"\n",
    "subdir.mkdir(exist_ok=True)\n",
    "\n",
    "file_path = subdir / \"hello.txt\"\n",
    "print(\"Absolute:\", file_path.resolve())\n",
    "print(\"Exists?\", file_path.exists())\n",
    "print(\"Parent:\", file_path.parent)\n",
    "print(\"Name:\", file_path.name)"
   ]
  },
  {
   "cell_type": "markdown",
   "id": "0e07bdc3",
   "metadata": {},
   "source": [
    "## Opening Files Safely with Context Managers\n",
    "\n",
    "Use `with open(...) as f:` to ensure the file is closed automatically.\n",
    "\n",
    "Common modes:\n",
    "- `\"r\"` — read (default)\n",
    "- `\"w\"` — write (overwrite if exists)\n",
    "- `\"a\"` — append (add to the end)\n",
    "- `\"x\"` — create (error if exists)\n",
    "- add `\"b\"` for binary (e.g., `\"rb\"`, `\"wb\"`)\n",
    "\n",
    "Text files often use `encoding=\"utf-8\"`."
   ]
  },
  {
   "cell_type": "code",
   "execution_count": null,
   "id": "f5a9322f",
   "metadata": {},
   "outputs": [],
   "source": [
    "msg_lines = [\n",
    "    \"Hello, file!\\n\",\n",
    "    \"This is line 2.\\n\",\n",
    "    \"Unicode: café, 🚀\\n\",\n",
    "]\n",
    "\n",
    "with open(file_path, mode=\"w\", encoding=\"utf-8\") as f:\n",
    "    f.writelines(msg_lines)  \n",
    "\n",
    "print(\"Wrote:\", file_path, \"(size:\", file_path.stat().st_size, \"bytes)\")"
   ]
  },
  {
   "cell_type": "code",
   "execution_count": null,
   "id": "57cd96f1",
   "metadata": {},
   "outputs": [],
   "source": [
    "a = file_path.read_text(encoding=\"utf-8\")\n",
    "print(\"\\nread_text():\\n\", a)"
   ]
  },
  {
   "cell_type": "code",
   "execution_count": null,
   "id": "bb92bc80",
   "metadata": {},
   "outputs": [],
   "source": [
    "print(\"\\nIterating lines:\")\n",
    "with open(file_path, encoding=\"utf-8\") as f:\n",
    "    for i, line in enumerate(f, start=1):\n",
    "        print(f\"{i:02d}:\", line.rstrip(\"\\n\"))"
   ]
  },
  {
   "cell_type": "markdown",
   "id": "66e6be82",
   "metadata": {},
   "source": [
    "### Writing vs. Appending vs. Reading\n",
    "\n",
    "- Write (`\"w\"`) overwrites the file or creates it if missing.\n",
    "- Append (`\"a\"`) adds new content at the end without deleting existing data.\n",
    "- Read (`\"r\"`) opens an existing file for reading; it fails if the file doesn't exist.\n",
    "\n",
    "Helpful methods:\n",
    "- `read()` — whole content as one string\n",
    "- `readline()` — one line at a time\n",
    "- `readlines()` — list of lines (be mindful of memory for big files)\n",
    "- Iterating `for line in f:` — memory-friendly for large files"
   ]
  },
  {
   "cell_type": "code",
   "execution_count": null,
   "id": "99abc2d6",
   "metadata": {},
   "outputs": [],
   "source": [
    "# Append a new line and show the result\n",
    "with open(file_path, mode=\"a\", encoding=\"utf-8\") as f:\n",
    "    f.write(\"Appended line.\\n\")\n",
    "\n",
    "print(\"After append:\")\n",
    "print(file_path.read_text(encoding=\"utf-8\"))"
   ]
  },
  {
   "cell_type": "markdown",
   "id": "07288ac3",
   "metadata": {},
   "source": [
    "## Encodings and Common Errors\n",
    "\n",
    "- Always prefer `encoding=\"utf-8\"` for text files unless you know otherwise.\n",
    "- If you see `UnicodeDecodeError`, try specifying the correct encoding or use `errors=\"replace\"` to avoid crashes.\n",
    "- Use `try`/`except` to handle missing files or permission issues.\n",
    "\n",
    "Examples of exceptions:\n",
    "- `FileNotFoundError` — path doesn't exist\n",
    "- `PermissionError` — no permission to read/write\n",
    "- `IsADirectoryError` — tried to open a directory as a file"
   ]
  },
  {
   "cell_type": "code",
   "execution_count": null,
   "id": "68517841",
   "metadata": {},
   "outputs": [],
   "source": [
    "missing = BASE / \"does_not_exist.txt\"\n",
    "try:\n",
    "    print(missing.read_text(encoding=\"utf-8\"))\n",
    "except FileNotFoundError as e:\n",
    "    print(\"Caught:\", type(e).__name__, e)\n"
   ]
  },
  {
   "cell_type": "code",
   "execution_count": null,
   "id": "85c2002b",
   "metadata": {},
   "outputs": [],
   "source": [
    "# Encoding example: write UTF-8 and read with wrong encoding then fix\n",
    "utf_file = BASE / \"utf_demo.txt\"\n",
    "utf_file.write_text(\"Café ☕\", encoding=\"utf-8\")\n",
    "\n",
    "try:\n",
    "    print(\"Wrong decoding:\")\n",
    "    print(utf_file.read_text(encoding=\"latin-1\"))  # may produce odd characters\n",
    "except UnicodeDecodeError as e:\n",
    "    print(\"Decode error:\", e)\n",
    "\n",
    "print(\"Correct decoding:\", utf_file.read_text(encoding=\"utf-8\"))"
   ]
  },
  {
   "cell_type": "markdown",
   "id": "4ffc01a1",
   "metadata": {},
   "source": [
    "## Working with CSV Files (Comma-Separated Values)\n",
    "\n",
    "CSV is a simple text format for tabular data. We'll use Python's built-in `csv` module.\n",
    "\n",
    "- Use `csv.writer` to write rows (lists or tuples)\n",
    "- Use `csv.reader` to read rows\n",
    "- Use `newline=\"\"` when opening files for CSV to avoid extra blank lines on some platforms"
   ]
  },
  {
   "cell_type": "code",
   "execution_count": null,
   "id": "fbf80bab",
   "metadata": {},
   "outputs": [],
   "source": [
    "import csv\n",
    "\n",
    "csv_path = BASE / \"people.csv\"\n",
    "rows = [\n",
    "    [\"name\", \"age\", \"city\"],\n",
    "    [\"Alice\", 30, \"Paris\"],\n",
    "    [\"Bob\", 25, \"Berlin\"],\n",
    "]\n",
    "\n",
    "with open(csv_path, mode=\"w\", encoding=\"utf-8\", newline=\"\") as f:\n",
    "    writer = csv.writer(f)\n",
    "    writer.writerows(rows)\n",
    "\n",
    "print(\"CSV written:\", csv_path)"
   ]
  },
  {
   "cell_type": "code",
   "execution_count": null,
   "id": "5b3f391e",
   "metadata": {},
   "outputs": [],
   "source": [
    "# Read it back\n",
    "with open(csv_path, encoding=\"utf-8\") as f:\n",
    "    reader = csv.reader(f)\n",
    "    for row in reader:\n",
    "        print(row)"
   ]
  },
  {
   "cell_type": "markdown",
   "id": "7d72e6db",
   "metadata": {},
   "source": [
    "## Working with JSON Files (JavaScript Object Notation)\n",
    "\n",
    "JSON stores structured data (dictionaries/lists). We'll use the built-in `json` module.\n",
    "\n",
    "- `json.dump(obj, file)` writes JSON to a file\n",
    "- `json.load(file)` reads JSON from a file\n",
    "- Use `indent=2` for pretty printing\n",
    "- Remember to use `encoding=\"utf-8\"` for text files"
   ]
  },
  {
   "cell_type": "code",
   "execution_count": null,
   "id": "3dba45fa",
   "metadata": {},
   "outputs": [],
   "source": [
    "import json\n",
    "\n",
    "json_path = BASE / \"config.json\"\n",
    "config = {\n",
    "    \"app\": \"demo\",\n",
    "    \"version\": 1,\n",
    "    \"features\": [\"read\", \"write\", \"append\"],\n",
    "}\n",
    "\n",
    "with open(json_path, mode=\"w\", encoding=\"utf-8\") as f:\n",
    "    json.dump(config, f, ensure_ascii=False, indent=2)\n",
    "\n",
    "print(\"JSON written:\", json_path)\n"
   ]
  },
  {
   "cell_type": "code",
   "execution_count": null,
   "id": "37db2d8b",
   "metadata": {},
   "outputs": [],
   "source": [
    "with open(json_path, encoding=\"utf-8\") as f:\n",
    "    data = json.load(f)\n",
    "\n",
    "print(\"Loaded JSON:\", data)\n",
    "print(\"Feature count:\", len(data[\"features\"]))"
   ]
  },
  {
   "cell_type": "markdown",
   "id": "55b06afc",
   "metadata": {},
   "source": [
    "## Binary Files (Images, PDFs, etc.)\n",
    "\n",
    "Binary files aren't text. Open them with modes like `\"rb\"` (read binary) or `\"wb\"` (write binary).\n",
    "\n",
    "Use this when copying images or other non-text files to avoid corruption."
   ]
  },
  {
   "cell_type": "code",
   "execution_count": null,
   "id": "2f47348c",
   "metadata": {},
   "outputs": [],
   "source": [
    "# Copy an image using binary mode\n",
    "src_img = Path(\"./images/img1.png\")\n",
    "dst_img = BASE / \"copy_img1.png\"\n",
    "\n",
    "if src_img.exists():\n",
    "    with open(src_img, \"rb\") as src, open(dst_img, \"wb\") as dst:\n",
    "        dst.write(src.read())\n",
    "    print(\"Copied:\", src_img, \"->\", dst_img)\n",
    "else:\n",
    "    print(\"Source image not found at\", src_img)"
   ]
  },
  {
   "cell_type": "markdown",
   "id": "047f1ba8",
   "metadata": {},
   "source": [
    "## Mini-Exercises\n",
    "\n",
    "Try these tasks yourself. Create new cells below each task to write your solution.\n",
    "\n",
    "1) Text file practice\n",
    "- Create a file `notes.txt` inside the demo folder\n",
    "- Write three lines to it using `with open(..., \"w\", encoding=\"utf-8\")`\n",
    "- Append one more line using `\"a\"`\n",
    "- Read it back and print line numbers\n",
    "\n",
    "2) CSV practice\n",
    "- Create a new CSV `scores.csv` with header `name,score`\n",
    "- Add at least 3 rows\n",
    "- Read it back and print the average score\n",
    "\n",
    "3) JSON practice\n",
    "- Create a JSON file `settings.json` with keys: `theme` (string), `autosave` (bool), `recent_files` (list)\n",
    "- Read it back and print the number of recent files\n",
    "\n",
    "Bonus) Robust reading\n",
    "- Write a function `safe_read(path)` that returns file text if it exists, otherwise returns `\"<missing>\"` without raising\n",
    "\n",
    "Tip: Reuse `BASE` for your file paths: `BASE / \"notes.txt\"`"
   ]
  },
  {
   "cell_type": "markdown",
   "id": "ec717fd6",
   "metadata": {},
   "source": [
    "## Optional Solutions (peek only if stuck)\n",
    "\n",
    "The following cells show sample solutions. Try on your own first!"
   ]
  },
  {
   "cell_type": "code",
   "execution_count": null,
   "id": "c764bdce",
   "metadata": {},
   "outputs": [],
   "source": [
    "# Solution 1) Text file practice\n",
    "notes = BASE / \"notes.txt\"\n",
    "with open(notes, \"w\", encoding=\"utf-8\") as f:\n",
    "    f.write(\"Line A\\nLine B\\nLine C\\n\")\n",
    "with open(notes, \"a\", encoding=\"utf-8\") as f:\n",
    "    f.write(\"Line D\\n\")\n",
    "\n",
    "with open(notes, encoding=\"utf-8\") as f:\n",
    "    for i, line in enumerate(f, 1):\n",
    "        print(f\"{i:02d}:\", line.rstrip())"
   ]
  },
  {
   "cell_type": "code",
   "execution_count": null,
   "id": "d1fd00fc",
   "metadata": {},
   "outputs": [],
   "source": [
    "# Solution 2) CSV practice\n",
    "import csv\n",
    "scores = BASE / \"scores.csv\"\n",
    "with open(scores, \"w\", encoding=\"utf-8\", newline=\"\") as f:\n",
    "    w = csv.writer(f)\n",
    "    w.writerow([\"name\", \"score\"])\n",
    "    w.writerows([[\"Ann\", 80], [\"Ben\", 92], [\"Cara\", 76]])\n",
    "\n",
    "vals = []\n",
    "with open(scores, encoding=\"utf-8\") as f:\n",
    "    r = csv.DictReader(f)\n",
    "    for row in r:\n",
    "        vals.append(float(row[\"score\"]))\n",
    "\n",
    "print(\"Average:\", sum(vals)/len(vals))"
   ]
  },
  {
   "cell_type": "code",
   "execution_count": null,
   "id": "7936839c",
   "metadata": {},
   "outputs": [],
   "source": [
    "# Solution 3) JSON practice\n",
    "import json\n",
    "settings = BASE / \"settings.json\"\n",
    "obj = {\"theme\": \"light\", \"autosave\": True, \"recent_files\": [\"a.txt\", \"b.txt\"]}\n",
    "with open(settings, \"w\", encoding=\"utf-8\") as f:\n",
    "    json.dump(obj, f, ensure_ascii=False, indent=2)\n",
    "\n",
    "with open(settings, encoding=\"utf-8\") as f:\n",
    "    data = json.load(f)\n",
    "print(\"Recent count:\", len(data.get(\"recent_files\", [])))"
   ]
  },
  {
   "cell_type": "code",
   "execution_count": null,
   "id": "8ff68d7c",
   "metadata": {},
   "outputs": [],
   "source": [
    "# Bonus) Robust reading\n",
    "from pathlib import Path\n",
    "\n",
    "def safe_read(path: Path, encoding: str = \"utf-8\") -> str:\n",
    "    try:\n",
    "        return path.read_text(encoding=encoding)\n",
    "    except FileNotFoundError:\n",
    "        return \"<missing>\"\n",
    "\n",
    "print(safe_read(BASE / \"nope.txt\"))"
   ]
  }
 ],
 "metadata": {
  "kernelspec": {
   "display_name": ".venv",
   "language": "python",
   "name": "python3"
  },
  "language_info": {
   "codemirror_mode": {
    "name": "ipython",
    "version": 3
   },
   "file_extension": ".py",
   "mimetype": "text/x-python",
   "name": "python",
   "nbconvert_exporter": "python",
   "pygments_lexer": "ipython3",
   "version": "3.12.3"
  }
 },
 "nbformat": 4,
 "nbformat_minor": 5
}
